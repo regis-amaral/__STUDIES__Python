{
 "cells": [
  {
   "cell_type": "code",
   "execution_count": 1,
   "id": "e485e50f",
   "metadata": {},
   "outputs": [
    {
     "name": "stdout",
     "output_type": "stream",
     "text": [
      "***************************** CALCULADORA *****************************\n",
      "Selecione o número da operação desejada:\n",
      "\n",
      "1 - Soma\n",
      "2 - Subtração\n",
      "3 - Multiplicação\n",
      "4 - Divisão\n"
     ]
    }
   ],
   "source": [
    "print('***************************** CALCULADORA *****************************')\n",
    "print('Selecione o número da operação desejada:\\n')\n",
    "print('1 - Soma')\n",
    "print('2 - Subtração')\n",
    "print('3 - Multiplicação')\n",
    "print('4 - Divisão')"
   ]
  },
  {
   "cell_type": "code",
   "execution_count": 2,
   "id": "b9d0fb4c",
   "metadata": {},
   "outputs": [],
   "source": [
    "soma = lambda a, b : a + b\n",
    "subtrai = lambda a, b: a - b\n",
    "multiplica = lambda a, b: a * b\n",
    "divide = lambda a, b: a / b"
   ]
  },
  {
   "cell_type": "code",
   "execution_count": 3,
   "id": "e5a4cb60",
   "metadata": {},
   "outputs": [
    {
     "name": "stdout",
     "output_type": "stream",
     "text": [
      "Digite sua opção (1,2,3 ou 4):4\n",
      "Digite o primeiro número:50\n",
      "Digite o segundo número:5\n"
     ]
    }
   ],
   "source": [
    "operacao = input('Digite sua opção (1,2,3 ou 4):')\n",
    "primeiro = int(input('Digite o primeiro número:'))\n",
    "segundo = int(input('Digite o segundo número:'))"
   ]
  },
  {
   "cell_type": "code",
   "execution_count": 4,
   "id": "c3cfe04c",
   "metadata": {},
   "outputs": [
    {
     "name": "stdout",
     "output_type": "stream",
     "text": [
      "10.0\n"
     ]
    }
   ],
   "source": [
    "match(operacao):\n",
    "    case \"1\":\n",
    "        print(soma(primeiro, segundo))\n",
    "    case \"2\":\n",
    "        print(subtrai(primeiro, segundo))\n",
    "    case \"3\":\n",
    "        print(multiplica(primeiro, segundo))\n",
    "    case \"4\":\n",
    "        print(divide(primeiro, segundo))\n",
    "    case _:\n",
    "        print('operação inválida')\n",
    "    \n",
    "    "
   ]
  }
 ],
 "metadata": {
  "kernelspec": {
   "display_name": "Python 3 (ipykernel)",
   "language": "python",
   "name": "python3"
  },
  "language_info": {
   "codemirror_mode": {
    "name": "ipython",
    "version": 3
   },
   "file_extension": ".py",
   "mimetype": "text/x-python",
   "name": "python",
   "nbconvert_exporter": "python",
   "pygments_lexer": "ipython3",
   "version": "3.11.5"
  }
 },
 "nbformat": 4,
 "nbformat_minor": 5
}
